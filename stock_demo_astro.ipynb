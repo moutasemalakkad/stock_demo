{
 "cells": [
  {
   "cell_type": "markdown",
   "id": "b6f22d26",
   "metadata": {},
   "source": [
    "# Import dependecies "
   ]
  },
  {
   "cell_type": "code",
   "execution_count": 6,
   "id": "1686c5f0",
   "metadata": {},
   "outputs": [],
   "source": [
    "import numpy as np\n",
    "import pandas as pd\n",
    " \n",
    "from sklearn.model_selection import train_test_split\n",
    "from sklearn.preprocessing import StandardScaler\n",
    "from sklearn.linear_model import LogisticRegression\n",
    "from sklearn.svm import SVC\n",
    "#from xgboost import XGBClassifier\n",
    "from sklearn import metrics"
   ]
  },
  {
   "cell_type": "markdown",
   "id": "9b5f5ce9",
   "metadata": {},
   "source": [
    "# Get stock data"
   ]
  },
  {
   "cell_type": "code",
   "execution_count": 14,
   "id": "35f34319",
   "metadata": {},
   "outputs": [
    {
     "data": {
      "text/html": [
       "<div>\n",
       "<style scoped>\n",
       "    .dataframe tbody tr th:only-of-type {\n",
       "        vertical-align: middle;\n",
       "    }\n",
       "\n",
       "    .dataframe tbody tr th {\n",
       "        vertical-align: top;\n",
       "    }\n",
       "\n",
       "    .dataframe thead th {\n",
       "        text-align: right;\n",
       "    }\n",
       "</style>\n",
       "<table border=\"1\" class=\"dataframe\">\n",
       "  <thead>\n",
       "    <tr style=\"text-align: right;\">\n",
       "      <th></th>\n",
       "      <th>date</th>\n",
       "      <th>close</th>\n",
       "      <th>volume</th>\n",
       "      <th>open</th>\n",
       "      <th>high</th>\n",
       "      <th>low</th>\n",
       "    </tr>\n",
       "  </thead>\n",
       "  <tbody>\n",
       "    <tr>\n",
       "      <th>1</th>\n",
       "      <td>2018/10/15</td>\n",
       "      <td>259.59</td>\n",
       "      <td>6189026.0000</td>\n",
       "      <td>259.06</td>\n",
       "      <td>263.2800</td>\n",
       "      <td>254.5367</td>\n",
       "    </tr>\n",
       "    <tr>\n",
       "      <th>2</th>\n",
       "      <td>2018/10/12</td>\n",
       "      <td>258.78</td>\n",
       "      <td>7189257.0000</td>\n",
       "      <td>261.00</td>\n",
       "      <td>261.9900</td>\n",
       "      <td>252.0100</td>\n",
       "    </tr>\n",
       "    <tr>\n",
       "      <th>3</th>\n",
       "      <td>2018/10/11</td>\n",
       "      <td>252.23</td>\n",
       "      <td>8128184.0000</td>\n",
       "      <td>257.53</td>\n",
       "      <td>262.2500</td>\n",
       "      <td>249.0300</td>\n",
       "    </tr>\n",
       "    <tr>\n",
       "      <th>4</th>\n",
       "      <td>2018/10/10</td>\n",
       "      <td>256.88</td>\n",
       "      <td>12781560.0000</td>\n",
       "      <td>264.61</td>\n",
       "      <td>265.5100</td>\n",
       "      <td>247.7700</td>\n",
       "    </tr>\n",
       "    <tr>\n",
       "      <th>5</th>\n",
       "      <td>2018/10/09</td>\n",
       "      <td>262.80</td>\n",
       "      <td>12037780.0000</td>\n",
       "      <td>255.25</td>\n",
       "      <td>266.7700</td>\n",
       "      <td>253.3000</td>\n",
       "    </tr>\n",
       "    <tr>\n",
       "      <th>...</th>\n",
       "      <td>...</td>\n",
       "      <td>...</td>\n",
       "      <td>...</td>\n",
       "      <td>...</td>\n",
       "      <td>...</td>\n",
       "      <td>...</td>\n",
       "    </tr>\n",
       "    <tr>\n",
       "      <th>752</th>\n",
       "      <td>2015/10/21</td>\n",
       "      <td>210.09</td>\n",
       "      <td>4177956.0000</td>\n",
       "      <td>211.99</td>\n",
       "      <td>214.8100</td>\n",
       "      <td>208.8000</td>\n",
       "    </tr>\n",
       "    <tr>\n",
       "      <th>753</th>\n",
       "      <td>2015/10/20</td>\n",
       "      <td>213.03</td>\n",
       "      <td>14877020.0000</td>\n",
       "      <td>227.72</td>\n",
       "      <td>228.6000</td>\n",
       "      <td>202.0000</td>\n",
       "    </tr>\n",
       "    <tr>\n",
       "      <th>754</th>\n",
       "      <td>2015/10/19</td>\n",
       "      <td>228.10</td>\n",
       "      <td>2506836.0000</td>\n",
       "      <td>226.50</td>\n",
       "      <td>231.1500</td>\n",
       "      <td>224.9400</td>\n",
       "    </tr>\n",
       "    <tr>\n",
       "      <th>755</th>\n",
       "      <td>2015/10/16</td>\n",
       "      <td>227.01</td>\n",
       "      <td>4327574.0000</td>\n",
       "      <td>223.04</td>\n",
       "      <td>230.4805</td>\n",
       "      <td>222.8700</td>\n",
       "    </tr>\n",
       "    <tr>\n",
       "      <th>756</th>\n",
       "      <td>2015/10/15</td>\n",
       "      <td>221.31</td>\n",
       "      <td>2835920.0000</td>\n",
       "      <td>216.43</td>\n",
       "      <td>221.7300</td>\n",
       "      <td>213.7000</td>\n",
       "    </tr>\n",
       "  </tbody>\n",
       "</table>\n",
       "<p>756 rows × 6 columns</p>\n",
       "</div>"
      ],
      "text/plain": [
       "           date   close         volume    open      high       low\n",
       "1    2018/10/15  259.59   6189026.0000  259.06  263.2800  254.5367\n",
       "2    2018/10/12  258.78   7189257.0000  261.00  261.9900  252.0100\n",
       "3    2018/10/11  252.23   8128184.0000  257.53  262.2500  249.0300\n",
       "4    2018/10/10  256.88  12781560.0000  264.61  265.5100  247.7700\n",
       "5    2018/10/09  262.80  12037780.0000  255.25  266.7700  253.3000\n",
       "..          ...     ...            ...     ...       ...       ...\n",
       "752  2015/10/21  210.09   4177956.0000  211.99  214.8100  208.8000\n",
       "753  2015/10/20  213.03  14877020.0000  227.72  228.6000  202.0000\n",
       "754  2015/10/19  228.10   2506836.0000  226.50  231.1500  224.9400\n",
       "755  2015/10/16  227.01   4327574.0000  223.04  230.4805  222.8700\n",
       "756  2015/10/15  221.31   2835920.0000  216.43  221.7300  213.7000\n",
       "\n",
       "[756 rows x 6 columns]"
      ]
     },
     "execution_count": 14,
     "metadata": {},
     "output_type": "execute_result"
    }
   ],
   "source": [
    "url=\"https://raw.githubusercontent.com/plotly/datasets/master/tesla-stock-price.csv\"\n",
    "df=pd.read_csv(url,on_bad_lines='skip')\n",
    "get_stock_data = df.iloc[1:]\n",
    "get_stock_data.copy()"
   ]
  },
  {
   "cell_type": "markdown",
   "id": "d7ecee19",
   "metadata": {},
   "source": [
    "# Clean Data"
   ]
  },
  {
   "cell_type": "code",
   "execution_count": 17,
   "id": "408b2611",
   "metadata": {},
   "outputs": [
    {
     "name": "stderr",
     "output_type": "stream",
     "text": [
      "/var/folders/zk/m4ts23_n5376402hsx6_0fk00000gn/T/ipykernel_21457/2571188718.py:3: SettingWithCopyWarning: \n",
      "A value is trying to be set on a copy of a slice from a DataFrame.\n",
      "Try using .loc[row_indexer,col_indexer] = value instead\n",
      "\n",
      "See the caveats in the documentation: https://pandas.pydata.org/pandas-docs/stable/user_guide/indexing.html#returning-a-view-versus-a-copy\n",
      "  get_stock_data['day'] = splitted[1].astype('int')\n",
      "/var/folders/zk/m4ts23_n5376402hsx6_0fk00000gn/T/ipykernel_21457/2571188718.py:4: SettingWithCopyWarning: \n",
      "A value is trying to be set on a copy of a slice from a DataFrame.\n",
      "Try using .loc[row_indexer,col_indexer] = value instead\n",
      "\n",
      "See the caveats in the documentation: https://pandas.pydata.org/pandas-docs/stable/user_guide/indexing.html#returning-a-view-versus-a-copy\n",
      "  get_stock_data['month'] = splitted[0].astype('int')\n",
      "/var/folders/zk/m4ts23_n5376402hsx6_0fk00000gn/T/ipykernel_21457/2571188718.py:5: SettingWithCopyWarning: \n",
      "A value is trying to be set on a copy of a slice from a DataFrame.\n",
      "Try using .loc[row_indexer,col_indexer] = value instead\n",
      "\n",
      "See the caveats in the documentation: https://pandas.pydata.org/pandas-docs/stable/user_guide/indexing.html#returning-a-view-versus-a-copy\n",
      "  get_stock_data['year'] = splitted[2].astype('int')\n",
      "/var/folders/zk/m4ts23_n5376402hsx6_0fk00000gn/T/ipykernel_21457/2571188718.py:7: SettingWithCopyWarning: \n",
      "A value is trying to be set on a copy of a slice from a DataFrame.\n",
      "Try using .loc[row_indexer,col_indexer] = value instead\n",
      "\n",
      "See the caveats in the documentation: https://pandas.pydata.org/pandas-docs/stable/user_guide/indexing.html#returning-a-view-versus-a-copy\n",
      "  get_stock_data['is_quarter_end'] = np.where(get_stock_data['month']%3==0,1,0)\n"
     ]
    }
   ],
   "source": [
    "splitted = get_stock_data['date'].str.split('/', expand=True)\n",
    " \n",
    "get_stock_data['day'] = splitted[1].astype('int')\n",
    "get_stock_data['month'] = splitted[0].astype('int')\n",
    "get_stock_data['year'] = splitted[2].astype('int')\n",
    "\n",
    "get_stock_data['is_quarter_end'] = np.where(get_stock_data['month']%3==0,1,0)\n",
    "\n",
    " \n",
    "data_cleaning = get_stock_data.copy()"
   ]
  },
  {
   "cell_type": "markdown",
   "id": "f5cd0d15",
   "metadata": {},
   "source": [
    "# Feature Engineering"
   ]
  },
  {
   "cell_type": "code",
   "execution_count": 19,
   "id": "9b473d29",
   "metadata": {},
   "outputs": [],
   "source": [
    "data_cleaning['open-close'] = data_cleaning['open'] - data_cleaning['close']\n",
    "data_cleaning['low-high'] = data_cleaning['low'] - data_cleaning['high']\n",
    "data_cleaning['target'] = np.where(data_cleaning['close'].shift(-1) > data_cleaning['close'], 1, 0)\n",
    "\n",
    "feature_engineering = data_cleaning.copy()"
   ]
  },
  {
   "cell_type": "markdown",
   "id": "81cc469c",
   "metadata": {},
   "source": [
    "# Scale Split"
   ]
  },
  {
   "cell_type": "code",
   "execution_count": 29,
   "id": "d9d4ce96",
   "metadata": {},
   "outputs": [],
   "source": [
    "# name cell scale_split\n",
    "\n",
    "\n",
    "features = feature_engineering[['open-close', 'low-high', 'is_quarter_end']]\n",
    "target = feature_engineering['target']\n",
    " \n",
    "scaler = StandardScaler()\n",
    "features = scaler.fit_transform(features)\n",
    " \n",
    "X_train, X_valid, Y_train, Y_valid = train_test_split(\n",
    "    features, target, test_size=0.1, random_state=2022)\n",
    "\n",
    "#return X_train, X_valid, Y_train, Y_valid"
   ]
  },
  {
   "cell_type": "markdown",
   "id": "d7db8bf1",
   "metadata": {},
   "source": [
    "# Train/Eval"
   ]
  },
  {
   "cell_type": "code",
   "execution_count": 27,
   "id": "9c621a1c",
   "metadata": {},
   "outputs": [
    {
     "name": "stdout",
     "output_type": "stream",
     "text": [
      "LogisticRegression() : \n",
      "Training Accuracy :  0.9117993079584775\n",
      "Validation Accuracy :  0.9256944444444445\n",
      "\n",
      "SVC(kernel='poly', probability=True) : \n",
      "Training Accuracy :  0.9093555363321799\n",
      "Validation Accuracy :  0.9138888888888889\n",
      "\n"
     ]
    }
   ],
   "source": [
    "# uncomment line:\n",
    "#X_train, X_valid, Y_train, Y_valid = scale_split\n",
    "\n",
    "models = [LogisticRegression(), SVC(\n",
    "  kernel='poly', probability=True)]\n",
    " \n",
    "for i in range(2):\n",
    "  models[i].fit(X_train, Y_train)\n",
    " \n",
    "  print(f'{models[i]} : ')\n",
    "  print('Training Accuracy : ', metrics.roc_auc_score(\n",
    "    Y_train, models[i].predict_proba(X_train)[:,1]))\n",
    "  print('Validation Accuracy : ', metrics.roc_auc_score(\n",
    "    Y_valid, models[i].predict_proba(X_valid)[:,1]))\n",
    "  print()"
   ]
  },
  {
   "cell_type": "code",
   "execution_count": null,
   "id": "5677db6d",
   "metadata": {},
   "outputs": [],
   "source": []
  }
 ],
 "metadata": {
  "kernelspec": {
   "display_name": "Python 3 (ipykernel)",
   "language": "python",
   "name": "python3"
  },
  "language_info": {
   "codemirror_mode": {
    "name": "ipython",
    "version": 3
   },
   "file_extension": ".py",
   "mimetype": "text/x-python",
   "name": "python",
   "nbconvert_exporter": "python",
   "pygments_lexer": "ipython3",
   "version": "3.10.8"
  }
 },
 "nbformat": 4,
 "nbformat_minor": 5
}
